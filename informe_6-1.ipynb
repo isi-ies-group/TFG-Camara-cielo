{
 "cells": [
  {
   "cell_type": "markdown",
   "metadata": {},
   "source": [
    "# Informe nº6.1\n",
    "    Notas: breve actualización del TFG. Ampliación del método basado en la integral de las luminancias de los píxeles.\n",
    "    Fecha: 23/07/2020\n",
    "   \n",
    "   ### Método de la integral de la luminancia de los píxeles\n",
    "    Se ha ampliado el proceso por el cual se obtiene la luminancia de los píxeles y el posterior cálculo de la integral."
   ]
  },
  {
   "cell_type": "code",
   "execution_count": 1,
   "metadata": {
    "scrolled": true
   },
   "outputs": [
    {
     "name": "stdout",
     "output_type": "stream",
     "text": [
      "Requirement already satisfied: opencv-python in c:\\users\\nitra\\miniconda3\\lib\\site-packages (4.2.0.32)\n",
      "Requirement already satisfied: numpy>=1.14.5 in c:\\users\\nitra\\miniconda3\\lib\\site-packages (from opencv-python) (1.18.5)\n",
      "Requirement already satisfied: matplotlib in c:\\users\\nitra\\miniconda3\\lib\\site-packages (3.2.2)\n",
      "Requirement already satisfied: kiwisolver>=1.0.1 in c:\\users\\nitra\\miniconda3\\lib\\site-packages (from matplotlib) (1.2.0)\n",
      "Requirement already satisfied: python-dateutil>=2.1 in c:\\users\\nitra\\miniconda3\\lib\\site-packages (from matplotlib) (2.8.1)\n",
      "Requirement already satisfied: cycler>=0.10 in c:\\users\\nitra\\miniconda3\\lib\\site-packages (from matplotlib) (0.10.0)\n",
      "Requirement already satisfied: pyparsing!=2.0.4,!=2.1.2,!=2.1.6,>=2.0.1 in c:\\users\\nitra\\miniconda3\\lib\\site-packages (from matplotlib) (2.4.7)\n",
      "Requirement already satisfied: numpy>=1.11 in c:\\users\\nitra\\miniconda3\\lib\\site-packages (from matplotlib) (1.18.5)\n",
      "Requirement already satisfied: six>=1.5 in c:\\users\\nitra\\miniconda3\\lib\\site-packages (from python-dateutil>=2.1->matplotlib) (1.15.0)\n",
      "Requirement already satisfied: pvlib in c:\\users\\nitra\\miniconda3\\lib\\site-packages (0.7.2)\n",
      "Requirement already satisfied: pandas>=0.18.1 in c:\\users\\nitra\\miniconda3\\lib\\site-packages (from pvlib) (1.0.5)\n",
      "Requirement already satisfied: requests in c:\\users\\nitra\\miniconda3\\lib\\site-packages (from pvlib) (2.24.0)\n",
      "Requirement already satisfied: numpy>=1.12.0 in c:\\users\\nitra\\miniconda3\\lib\\site-packages (from pvlib) (1.18.5)\n",
      "Requirement already satisfied: pytz in c:\\users\\nitra\\miniconda3\\lib\\site-packages (from pvlib) (2020.1)\n",
      "Requirement already satisfied: python-dateutil>=2.6.1 in c:\\users\\nitra\\miniconda3\\lib\\site-packages (from pandas>=0.18.1->pvlib) (2.8.1)\n",
      "Requirement already satisfied: idna<3,>=2.5 in c:\\users\\nitra\\miniconda3\\lib\\site-packages (from requests->pvlib) (2.10)\n",
      "Requirement already satisfied: urllib3!=1.25.0,!=1.25.1,<1.26,>=1.21.1 in c:\\users\\nitra\\miniconda3\\lib\\site-packages (from requests->pvlib) (1.25.9)\n",
      "Requirement already satisfied: chardet<4,>=3.0.2 in c:\\users\\nitra\\miniconda3\\lib\\site-packages (from requests->pvlib) (3.0.4)\n",
      "Requirement already satisfied: certifi>=2017.4.17 in c:\\users\\nitra\\miniconda3\\lib\\site-packages (from requests->pvlib) (2020.6.20)\n",
      "Requirement already satisfied: six>=1.5 in c:\\users\\nitra\\miniconda3\\lib\\site-packages (from python-dateutil>=2.6.1->pandas>=0.18.1->pvlib) (1.15.0)\n",
      "Requirement already satisfied: pyephem in c:\\users\\nitra\\miniconda3\\lib\\site-packages (3.7.7.0)\n",
      "Requirement already satisfied: ephem==3.7.7.0 in c:\\users\\nitra\\miniconda3\\lib\\site-packages (from pyephem) (3.7.7.0)\n",
      "Requirement already satisfied: pandas in c:\\users\\nitra\\miniconda3\\lib\\site-packages (1.0.5)\n",
      "Requirement already satisfied: numpy>=1.13.3 in c:\\users\\nitra\\miniconda3\\lib\\site-packages (from pandas) (1.18.5)\n",
      "Requirement already satisfied: pytz>=2017.2 in c:\\users\\nitra\\miniconda3\\lib\\site-packages (from pandas) (2020.1)\n",
      "Requirement already satisfied: python-dateutil>=2.6.1 in c:\\users\\nitra\\miniconda3\\lib\\site-packages (from pandas) (2.8.1)\n",
      "Requirement already satisfied: six>=1.5 in c:\\users\\nitra\\miniconda3\\lib\\site-packages (from python-dateutil>=2.6.1->pandas) (1.15.0)\n",
      "Requirement already satisfied: datetime in c:\\users\\nitra\\miniconda3\\lib\\site-packages (4.3)\n",
      "Requirement already satisfied: zope.interface in c:\\users\\nitra\\miniconda3\\lib\\site-packages (from datetime) (4.7.2)\n",
      "Requirement already satisfied: pytz in c:\\users\\nitra\\miniconda3\\lib\\site-packages (from datetime) (2020.1)\n",
      "Requirement already satisfied: setuptools in c:\\users\\nitra\\miniconda3\\lib\\site-packages (from zope.interface->datetime) (49.1.0.post20200710)\n",
      "Requirement already satisfied: sklearn in c:\\users\\nitra\\miniconda3\\lib\\site-packages (0.0)\n",
      "Requirement already satisfied: scikit-learn in c:\\users\\nitra\\miniconda3\\lib\\site-packages (from sklearn) (0.23.0)\n",
      "Requirement already satisfied: scipy>=0.19.1 in c:\\users\\nitra\\miniconda3\\lib\\site-packages (from scikit-learn->sklearn) (1.4.1)\n",
      "Requirement already satisfied: numpy>=1.13.3 in c:\\users\\nitra\\miniconda3\\lib\\site-packages (from scikit-learn->sklearn) (1.18.5)\n",
      "Requirement already satisfied: threadpoolctl>=2.0.0 in c:\\users\\nitra\\miniconda3\\lib\\site-packages (from scikit-learn->sklearn) (2.0.0)\n",
      "Requirement already satisfied: joblib>=0.11 in c:\\users\\nitra\\miniconda3\\lib\\site-packages (from scikit-learn->sklearn) (0.15.1)\n",
      "Requirement already satisfied: seaborn in c:\\users\\nitra\\miniconda3\\lib\\site-packages (0.10.1)\n",
      "Requirement already satisfied: pandas>=0.22.0 in c:\\users\\nitra\\miniconda3\\lib\\site-packages (from seaborn) (1.0.5)\n",
      "Requirement already satisfied: numpy>=1.13.3 in c:\\users\\nitra\\miniconda3\\lib\\site-packages (from seaborn) (1.18.5)\n",
      "Requirement already satisfied: scipy>=1.0.1 in c:\\users\\nitra\\miniconda3\\lib\\site-packages (from seaborn) (1.4.1)\n",
      "Requirement already satisfied: matplotlib>=2.1.2 in c:\\users\\nitra\\miniconda3\\lib\\site-packages (from seaborn) (3.2.2)\n",
      "Requirement already satisfied: pytz>=2017.2 in c:\\users\\nitra\\miniconda3\\lib\\site-packages (from pandas>=0.22.0->seaborn) (2020.1)\n",
      "Requirement already satisfied: python-dateutil>=2.6.1 in c:\\users\\nitra\\miniconda3\\lib\\site-packages (from pandas>=0.22.0->seaborn) (2.8.1)\n",
      "Requirement already satisfied: cycler>=0.10 in c:\\users\\nitra\\miniconda3\\lib\\site-packages (from matplotlib>=2.1.2->seaborn) (0.10.0)\n",
      "Requirement already satisfied: kiwisolver>=1.0.1 in c:\\users\\nitra\\miniconda3\\lib\\site-packages (from matplotlib>=2.1.2->seaborn) (1.2.0)\n",
      "Requirement already satisfied: pyparsing!=2.0.4,!=2.1.2,!=2.1.6,>=2.0.1 in c:\\users\\nitra\\miniconda3\\lib\\site-packages (from matplotlib>=2.1.2->seaborn) (2.4.7)\n",
      "Requirement already satisfied: six>=1.5 in c:\\users\\nitra\\miniconda3\\lib\\site-packages (from python-dateutil>=2.6.1->pandas>=0.22.0->seaborn) (1.15.0)\n"
     ]
    }
   ],
   "source": [
    "!pip install opencv-python\n",
    "!pip install matplotlib\n",
    "!pip install pvlib\n",
    "!pip install pyephem\n",
    "!pip install pandas\n",
    "!pip install datetime\n",
    "!pip install sklearn\n",
    "!pip install seaborn\n",
    "\n",
    "import cv2\n",
    "import numpy as np\n",
    "import pandas as pd\n",
    "import datetime as dt\n",
    "import seaborn as sn\n",
    "import math\n",
    "from matplotlib import pyplot as plt\n",
    "import matplotlib.image as mpimg\n",
    "import pvlib as pv\n",
    "from datetime import datetime as dt\n",
    "from glob import glob\n",
    "\n",
    "from sklearn.preprocessing import PolynomialFeatures\n",
    "from sklearn.linear_model import LinearRegression\n",
    "from sklearn.pipeline import Pipeline\n",
    "from sklearn.metrics import mean_squared_error\n",
    "from sklearn.metrics import explained_variance_score\n",
    "from sklearn.model_selection import train_test_split\n",
    "from sklearn.model_selection import cross_val_score\n",
    "\n",
    "from mascaras import *\n",
    "from funciones_algoritmo import *\n",
    "from muestra_imagenes import *"
   ]
  },
  {
   "cell_type": "code",
   "execution_count": 2,
   "metadata": {},
   "outputs": [],
   "source": [
    "# Lectura de todas las imágenes del repositorio\n",
    "path_fotos_rad = 'Fotos Cielo/'\n",
    "images = glob(path_fotos_rad + '*.jpg')\n",
    "\n",
    "# El rango de imñagenes del que se dispone información sobre la radiación difusa medida por los sesnores es: images[7] a images[38]\n",
    "path_img = images[30]\n",
    "\n",
    "# Lectura de la imágen\n",
    "img_bgr = cv2.imread(path_img, cv2.IMREAD_COLOR)\n",
    "img_bgr = pre_procesado(img_bgr)"
   ]
  },
  {
   "cell_type": "code",
   "execution_count": 3,
   "metadata": {},
   "outputs": [],
   "source": [
    "# ELIMINACIÓN DEL DISCO SOLAR\n",
    "\n",
    "# Se obtiene la hora de la imágen, analizando su nombre\n",
    "hora_img = hora_imagen(path_img)\n",
    "\n",
    "# Se obtiene la posición del sol, zenit y azimut, haciendo las correacción correspondiente para transformalos a coordenadas\n",
    "# de la imágen\n",
    "zenith_imagen, azimuth_imagen = pos_solar(hora_img, imagen=True)\n",
    "\n",
    "# Se obtiene el radio teórico que debería tener el disco solar\n",
    "area_teorica = f_area_zenith()(zenith_imagen / 90)\n",
    "radio_teorico = np.sqrt(area_teorica / np.pi)\n",
    "\n",
    "# Se obtiene la posición del sol, centroide, en coordenadas de la imagen\n",
    "\n",
    "def matriz_distancias(punto):\n",
    "    # Devuelve una mattriz, del tamaño de la imagen, con la dstancia de cada pixel\n",
    "    # al punto especificado como parámetro\n",
    "\n",
    "    pixels_dist = np.array([[pixel_dist([y,x], punto) for y in range(Y)] for x in range(X)])\n",
    "    \n",
    "    return pixels_dist\n",
    "\n",
    "centroide_teorico = centroide_solar(hora_img, imagen=True)\n",
    "distancias_sol = matriz_distancias(centroide_teorico)\n",
    "\n",
    "# Se obtiene la máscara que hay que aplicar a la imagen para eliminar las luminancias procedentes del disco solar\n",
    "mask_sol = cv2.inRange(distancias_sol, 0 , radio_teorico)"
   ]
  },
  {
   "cell_type": "code",
   "execution_count": 4,
   "metadata": {},
   "outputs": [],
   "source": [
    "# Cálculo de la luminancia de los píxeles\n",
    "def intensidad_equiponderada(img_bgr):\n",
    "    # Cálculo de la luminancia del pixeles,\n",
    "    # como media de los canales B, G y R\n",
    "    \n",
    "    B = img_bgr[:,:,0]\n",
    "    G = img_bgr[:,:,1]\n",
    "    R = img_bgr[:,:,2]\n",
    "    \n",
    "    I = np.array(B/3 + G/3 + R/3, np.uint8)\n",
    "    return I\n",
    "\n",
    "    \n",
    "def intensidad_CCIR(img_bgr):\n",
    "    # Basado en el convenio CCIR 601 para el cáluclo de \n",
    "    # luminancia en imágenes analógicas\n",
    "    \n",
    "    B = img_bgr[:,:,0]\n",
    "    G = img_bgr[:,:,1]\n",
    "    R = img_bgr[:,:,2]\n",
    "\n",
    "    I = np.array(B * 0.114 + G * 0.587 + R * 0.299, np.uint8)\n",
    "    return I \n",
    "    \n",
    "def intensidad_ITUR(img_bgr):\n",
    "    # Basado en el convenio ITU-R BT 709 para el cáluclo de \n",
    "    # luminancia en imágenes digitales\n",
    "    \n",
    "    B = img_bgr[:,:,0]\n",
    "    G = img_bgr[:,:,1]\n",
    "    R = img_bgr[:,:,2]\n",
    "\n",
    "    I = np.array(B * 0.0722 + G * 0.7152 + R * 0.2126, np.uint8)\n",
    "    return I "
   ]
  },
  {
   "cell_type": "code",
   "execution_count": 5,
   "metadata": {},
   "outputs": [],
   "source": [
    "# Corrección gamma\n",
    "def gamma_corr(img_bgr, gamma=2.2, maxVal=255):\n",
    "    gamma_corr = 1 / gamma\n",
    "    # Se normaliza la matriz con las imágenes\n",
    "    img_norm = img_bgr / maxVal\n",
    "    # Se obtiene la imagen en color corregida y desnormalizada\n",
    "    img_corr = np.power(img_norm, gamma_corr) * maxVal\n",
    "\n",
    "    return img_corr"
   ]
  },
  {
   "cell_type": "code",
   "execution_count": 6,
   "metadata": {},
   "outputs": [],
   "source": [
    "# Obtención de la integral de la luminancia\n",
    "def integral_intensidad(img_BGR, mask_img=None, metodo='ITUR', coseno=False, gamma=False):\n",
    "    modos = {'Equiponderado': intensidad_equiponderada,\n",
    "            'CCIR': intensidad_CCIR,\n",
    "            'ITUR': intensidad_ITUR}\n",
    "            \n",
    "    I = modos[metodo](img_BGR)\n",
    "    \n",
    "    # Corrección gamma\n",
    "    if gamma:\n",
    "        I = gamma_corr(I, gamma)\n",
    "    \n",
    "    # Multiplicación de la matriz de luminancia por la matriz de los ángulos cenitales\n",
    "    if coseno:\n",
    "        zenits = matriz_posiciones()[:,:,0]\n",
    "        I = np.multiply(I, np.cos(np.deg2rad(zenits)))\n",
    "    \n",
    "    # Se obtiene el valor acumulado de las intensidades de la imagen\n",
    "    img_res = cv2.bitwise_and(I,I, mask=mask_img)\n",
    "    integral = np.sum(img_res)\n",
    "    \n",
    "    return integral"
   ]
  },
  {
   "cell_type": "code",
   "execution_count": 7,
   "metadata": {},
   "outputs": [
    {
     "name": "stdout",
     "output_type": "stream",
     "text": [
      "La integral de luminancias obtenida en esta imágen es: 812231689.90\n"
     ]
    }
   ],
   "source": [
    "mask_no_sol = cv2.bitwise_not(mask_sol, mask=cielo)\n",
    "integral_res = integral_intensidad(img_bgr, mask_img=mask_no_sol, metodo='ITUR', coseno=False, gamma=2.2)\n",
    "\n",
    "print('La integral de luminancias obtenida en esta imágen es: {:.2f}'.format(integral_res))"
   ]
  },
  {
   "cell_type": "code",
   "execution_count": 8,
   "metadata": {},
   "outputs": [
    {
     "data": {
      "text/plain": [
       "Unnamed: 0                                                  3.365000e+03\n",
       "Radiacion                                                   3.053211e+02\n",
       "Radiacion difusa                                            2.710509e+02\n",
       "Ratio nubes                                                 6.772130e-01\n",
       "Factor solar                                                0.000000e+00\n",
       "Área solar                                                  4.066500e+03\n",
       "Intensidad cielo                                            9.403263e-01\n",
       "Intensidad cielo ITUR Coseno:True Gamma_corr: True 2.2      4.466193e+08\n",
       "Intensidad cielo ITUR Coseno:False Gamma_corr: True 2.2     8.176325e+08\n",
       "Intensidad cielo ITUR Coseno:True Gamma_corr: False 2.2     3.298381e+08\n",
       "Intensidad cielo ITUR Coseno:False Gamma_corr: False 2.2    5.950647e+08\n",
       "Intensidad nubes                                            6.141157e-01\n",
       "ghi                                                         5.599662e+02\n",
       "Azimuth                                                     2.720505e+02\n",
       "Zenith                                                      5.554971e+01\n",
       "Name: 2020-06-08 18:28:00, dtype: float64"
      ]
     },
     "execution_count": 8,
     "metadata": {},
     "output_type": "execute_result"
    }
   ],
   "source": [
    "# Se obtiene la radiación difusa medida por los sensores\n",
    "dataframe_medidas = pd.read_csv('Datos/info_regresion_nublado_integral.csv')\n",
    "\n",
    "dataframe_medidas.set_index('Unnamed: 0.1', inplace=True)\n",
    "dataframe_medidas.loc[hora_img.strftime('%Y-%m-%d %H:%M:%S')]"
   ]
  },
  {
   "cell_type": "code",
   "execution_count": 9,
   "metadata": {},
   "outputs": [],
   "source": [
    "# Cálculo del valor de calibración\n",
    "val_difusa = dataframe_medidas.loc[hora_img.strftime('%Y-%m-%d %H:%M:%S')]['Radiacion difusa']\n",
    "# val_calib = val_difusa / integral_res\n",
    "val_calib = integral_res / val_difusa"
   ]
  },
  {
   "cell_type": "code",
   "execution_count": 10,
   "metadata": {},
   "outputs": [
    {
     "name": "stdout",
     "output_type": "stream",
     "text": [
      "El valor de calibración obtenido en esta imágen es: 2996602.04\n"
     ]
    }
   ],
   "source": [
    "print('El valor de calibración obtenido en esta imágen es: {:.2f}'.format(val_calib))"
   ]
  }
 ],
 "metadata": {
  "kernelspec": {
   "display_name": "Python 3",
   "language": "python",
   "name": "python3"
  },
  "language_info": {
   "codemirror_mode": {
    "name": "ipython",
    "version": 3
   },
   "file_extension": ".py",
   "mimetype": "text/x-python",
   "name": "python",
   "nbconvert_exporter": "python",
   "pygments_lexer": "ipython3",
   "version": "3.7.7"
  }
 },
 "nbformat": 4,
 "nbformat_minor": 4
}
