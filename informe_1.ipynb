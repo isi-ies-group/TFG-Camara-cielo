{
 "cells": [
  {
   "cell_type": "markdown",
   "metadata": {},
   "source": [
    "# Informe nº1\n",
    "    Notas: breve actualización del TFG\n",
    "    Fecha: 02/04/2020\n",
    "    \n",
    "   ## Detección de nubes mediante varios algoritmos\n",
    "    Se describe brevemente el algorimos mediante el cuál se suelen realizar la detección de nubes"
   ]
  },
  {
   "cell_type": "code",
   "execution_count": null,
   "metadata": {},
   "outputs": [],
   "source": [
    "!pip install opencv-python\n",
    "!pip install matplotlib\n",
    "\n",
    "import cv2\n",
    "import numpy as np\n",
    "import math\n",
    "from matplotlib import pyplot as plt\n",
    "\n",
    "path = './imagenes/'\n",
    "file = 'nubes'"
   ]
  },
  {
   "cell_type": "markdown",
   "metadata": {},
   "source": [
    "#### Procesado inicial de las imágenes\n",
    "Todos los métodos que he estado viendo se basan en hacer un procesado de la imagen incial, y acto seguido realizar una máscara definiendo un umbral en alguno de los parámetros existenetes. En el método que pongo a continuación de ejemplo se basa en transformar la imagen de modo de color BGR a HSV, Matiz-SAturación-Valor (Hue-Saturation-Value). "
   ]
  },
  {
   "cell_type": "code",
   "execution_count": null,
   "metadata": {},
   "outputs": [],
   "source": [
    "# Se lee la imagen, convirtiendola a una array de NxM pixeles, y de 3(B-G-R) canales, en total NxMx3\n",
    "img = cv2.imread(path + file + '.png', 1)\n",
    "\n",
    "# Se realiza un procesado inicial de la imagen\n",
    "# En este caso se pasa la imagen de BGR a HSV\n",
    "hsv = cv2.cvtColor(img, cv2.COLOR_BGR2HSV)\n",
    "plt.figure(1)\n",
    "plt.imshow(img)\n"
   ]
  },
  {
   "cell_type": "markdown",
   "metadata": {},
   "source": [
    "### Máscara\n",
    "Una vez hecho el procesado, unicamente establece un rango, comprobando pixel a pixel si pertenece a este rango. En el caso de que el pixel se encuentre en este rango, el valor de la máscara se pone a 255 (valor boleano alto), sino a 0 (valor boleano bajo). \n",
    "Teniendo la máscara hecha, se realiza un AND entre la imagen original y la máscara, obteniendo el resultado final, la porción de cielo que se encuentra despejada. "
   ]
  },
  {
   "cell_type": "code",
   "execution_count": null,
   "metadata": {},
   "outputs": [],
   "source": [
    "# Fixed threshold cloud detection filter\n",
    "white = np.array([255, 255, 255])\n",
    "lowerBound = np.array([30,30,30])\n",
    "\n",
    "mask = cv2.inRange(hsv, lowerBound, white)\n",
    "res = cv2.bitwise_and(img, img, mask=np.uint8(mask))"
   ]
  },
  {
   "cell_type": "markdown",
   "metadata": {},
   "source": [
    "### RESULTADOS"
   ]
  },
  {
   "cell_type": "code",
   "execution_count": null,
   "metadata": {},
   "outputs": [],
   "source": [
    "plt.figure(1)\n",
    "plt.imshow(res)\n",
    "plt.figure(2)\n",
    "plt.imshow(mask)"
   ]
  },
  {
   "cell_type": "markdown",
   "metadata": {},
   "source": [
    "## Algunos algortimos más\n",
    "   ### Basados en el ratio R/B\n",
    "Este método se basa en delimitar un rango de valores para el ratio R/B con el que podemos discernir del cielo, valores mas altos del canal azul, a difrenecia de las nubes, color blanco, valores altos de rojo y de azul.\n",
    "Realizando un ajuste de los umbrales adecuado, en función de la cámara, podemos obtener unos resultados similares en a los métodos anteriores."
   ]
  },
  {
   "cell_type": "code",
   "execution_count": null,
   "metadata": {},
   "outputs": [],
   "source": [
    "#  R/B Ratio cloud detection\n",
    "mask = np.zeros((img.shape[0], img.shape[1]))\n",
    "\n",
    "for i in range(img.shape[0]):\n",
    "    for j in range(img.shape[1]):\n",
    "        B = B = int(img[i][j][0]); G = int(img[i][j][1]); R = int(img[i][j][2])\n",
    "        if B > 0:\n",
    "            cond1 = (R/B) < 0.9\n",
    "        else:\n",
    "            cond1 = True\n",
    "        if cond1:\n",
    "            mask[i][j] = 255\n",
    "        else:\n",
    "            mask[i][j] = 0\n",
    "\n",
    "res = cv2.bitwise_and(img, img, mask=np.uint8(mask))\n",
    "plt.figure(1)\n",
    "plt.imshow(res)\n",
    "plt.figure(2)\n",
    "plt.imshow(mask)"
   ]
  },
  {
   "cell_type": "markdown",
   "metadata": {},
   "source": [
    "## Basado en la diferencia R-B\n",
    "De forma similar al criterio del ratio R/B, este método se basa en la diferencia entre los canales R y B para decidir si se trata de un pixel con nube o de cielo despejado."
   ]
  },
  {
   "cell_type": "code",
   "execution_count": null,
   "metadata": {},
   "outputs": [],
   "source": [
    "#  R-B Ratio cloud detection\n",
    "mask = np.zeros((img.shape[0], img.shape[1]))\n",
    "\n",
    "for i in range(img.shape[0]):\n",
    "    for j in range(img.shape[1]):\n",
    "        B = int(img[i][j][0]); G = int(img[i][j][1]); R = int(img[i][j][2])\n",
    "        cond1 = (B - R) > 7\n",
    "        if cond1:\n",
    "            mask[i][j] = 255\n",
    "       \n",
    "res = cv2.bitwise_and(img, img, mask=np.uint8(mask))\n",
    "plt.figure(1)\n",
    "plt.imshow(res)\n",
    "plt.figure(2)\n",
    "plt.imshow(mask)"
   ]
  },
  {
   "cell_type": "markdown",
   "metadata": {},
   "source": [
    "## Criterios de Multi-Color"
   ]
  },
  {
   "cell_type": "code",
   "execution_count": null,
   "metadata": {},
   "outputs": [],
   "source": [
    "#  Multi-color criterium cloud detection\n",
    "mask = np.zeros((img.shape[0], img.shape[1]))\n",
    "\n",
    "for i in range(img.shape[0]):\n",
    "    for j in range(img.shape[1]):\n",
    "        B = int(img[i][j][0]); G = int(img[i][j][1]); R = int(img[i][j][2])\n",
    "        cond1 = B < (R + 30)\n",
    "        cond2 = B < (G + 10)\n",
    "        cond3 = B < 60\n",
    "        if cond1 & cond2 & cond3:\n",
    "            mask[i][j] = 255\n",
    "\n",
    "res = cv2.bitwise_and(img, img, mask=np.uint8(mask))\n",
    "plt.figure(1)\n",
    "plt.imshow(res)\n",
    "plt.figure(2)\n",
    "plt.imshow(mask)"
   ]
  },
  {
   "cell_type": "markdown",
   "metadata": {},
   "source": [
    "## Detección del disco solar\n",
    "    En este apartado se describen algunos de los algoritmos/métodos de detección del sol, como se puede verá más adelante el procedimiento a seguir es muy similar que al seguido para la detección de nubes."
   ]
  },
  {
   "cell_type": "markdown",
   "metadata": {},
   "source": [
    "### Imagenes de pruebas\n",
    "En los algorimos anteriores se ha seleccionado una imágen que contenga nubes, para estos ejemplos se utilizrán las siguintes imágenes, que considero que son buenas muestras de la realidad (una imagen del cielo totalmentes despejado y una imagen en la que el sol se encuentra parcialmente cubierto):"
   ]
  },
  {
   "cell_type": "code",
   "execution_count": null,
   "metadata": {},
   "outputs": [],
   "source": [
    "file_1 = 'despejado'\n",
    "file_2 = 'pocas'\n",
    "\n",
    "img_1 = cv2.imread(path + file_1 + '.png', 1)\n",
    "img_2 = cv2.imread(path + file_2 + '.png', 1)\n",
    "\n",
    "images = [img_1, img_2]\n",
    "\n",
    "plt.figure(1)\n",
    "plt.imshow(img_1)\n",
    "plt.figure(2)\n",
    "plt.imshow(img_2)"
   ]
  },
  {
   "cell_type": "markdown",
   "metadata": {},
   "source": [
    "### Método con HSV\n",
    "Los modelos de color HSV y HLS, son modelos alterativos al modelo estándar BGR ( ó RGB). EL espacio HSV queda definido por las componenetes Hue(H, matiz en español), Saturation(S, saturación en español) y Value(v, valor en español) de la siguiente forma"
   ]
  },
  {
   "cell_type": "code",
   "execution_count": null,
   "metadata": {},
   "outputs": [],
   "source": [
    "%%HTML\n",
    "<img src=\"https://upload.wikimedia.org/wikipedia/commons/1/1b/Triangulo_HSV.png\"\n",
    "     alt=\"Triángulo HSV\"\n",
    "     style=\"float: left; margin-right: 5px;\" />\n",
    "\n",
    "<img src=\"https://upload.wikimedia.org/wikipedia/commons/6/6c/Cono_de_la_coloraci%C3%B3n_HSV.png\"\n",
    "     alt=\"Cono HSV\"\n",
    "     style=\"width:500px;height:500px;\" />"
   ]
  },
  {
   "cell_type": "markdown",
   "metadata": {},
   "source": [
    "Como podemos ver, los colores mas blancos, los que suele producir el sol al saturar los poxeles de la cámara, tienen valores altos junto con saturaciones bajas. De esta forma, se ha ideado el algoritmo siguinete para que considere pixeles soleados a los que presentan un valor de saturación inferior a 20 y un valor mayor a 230."
   ]
  },
  {
   "cell_type": "code",
   "execution_count": null,
   "metadata": {},
   "outputs": [],
   "source": [
    "n=1\n",
    "for img in images:\n",
    "    # Deteccion del sol con tipo HSV\n",
    "    hsv = cv2.cvtColor(img, cv2.COLOR_BGR2HSV)\n",
    "    mask = np.zeros((img.shape[0], img.shape[1]))\n",
    "\n",
    "    for i in range(img.shape[0]):\n",
    "        for j in range(img.shape[1]):\n",
    "            H = int(hsv[i][j][0]); S = int(hsv[i][j][1]); V = int(hsv[i][j][2])\n",
    "            if (S<20) & (V>230):\n",
    "                mask[i][j] = 255     \n",
    "    plt.figure(n); n+=1\n",
    "    plt.imshow(img)\n",
    "    plt.figure(n)\n",
    "    plt.imshow(mask); n+=1"
   ]
  },
  {
   "cell_type": "markdown",
   "metadata": {},
   "source": [
    "Podemos ver que en un cielo despejado, las identidicaciñon del sol es casi perfecta. En cambio en cuanto al rededor del disc solar se encuentran nubes, la radiación del sol se refleja en las nubes, saturando los pixeles de la cámara, dando la sensación de que son pixeles solares.\n",
    "\n",
    "## Método HLS\n",
    "Con el modelo de color HLS(Hue, Lightness, Saturation) sucede una cosa similar, en este caso solo se tiene en cuenta la luminosidad para detectar el sol, como se ve en la siguinete imagen los pixeles más blancos son los que presentan los valores máximos de luminosidad:"
   ]
  },
  {
   "cell_type": "code",
   "execution_count": null,
   "metadata": {},
   "outputs": [],
   "source": [
    "%%HTML\n",
    "<img src=\"https://upload.wikimedia.org/wikipedia/commons/6/6b/HSL_color_solid_cylinder_saturation_gray.png\"\n",
    "     alt=\"Cilindro HLS\"\n",
    "     style=\"width:300px;height:300px;\" />"
   ]
  },
  {
   "cell_type": "markdown",
   "metadata": {},
   "source": [
    "Como podemos ver, el algoritmo es idéntico al anterior, igual que los resultados"
   ]
  },
  {
   "cell_type": "code",
   "execution_count": null,
   "metadata": {},
   "outputs": [],
   "source": [
    "for img in images:\n",
    "    # Deteccion del sol con tipo HLS\n",
    "    hls = cv2.cvtColor(img, cv2.COLOR_BGR2HLS)\n",
    "    mask = np.zeros((img.shape[0], img.shape[1]))\n",
    "    for i in range(img.shape[0]):\n",
    "        for j in range(img.shape[1]):\n",
    "            H = int(hls[i][j][0]); L = int(hls[i][j][1]); S = int(hls[i][j][2])\n",
    "            if L > 240:\n",
    "                mask[i][j] = 255    \n",
    "    plt.figure(n); n+=1\n",
    "    plt.imshow(img)\n",
    "    plt.figure(n)\n",
    "    plt.imshow(mask); n+=1"
   ]
  },
  {
   "cell_type": "markdown",
   "metadata": {},
   "source": [
    "## Método con el modelo HIS\n",
    "El método es igual a los anteriores, pero en este caso, el valor que tenermos como guía es la intensidad, siendo esta la media de los valores de los tres canales (R,G,B), que a mi parecer es una variable más importante, ya que R+G+B = blanco, con lo que valores altos de esta variable indicarán valores cercanos a la saturación que producen los pixeles solares."
   ]
  },
  {
   "cell_type": "code",
   "execution_count": null,
   "metadata": {},
   "outputs": [],
   "source": [
    "for img in images:\n",
    "    # Deteccion del sol con tipo HIS\n",
    "    mask = np.zeros((img.shape[0], img.shape[1]))\n",
    "    for i in range(img.shape[0]):\n",
    "        for j in range(img.shape[1]):\n",
    "            B = int(img[i][j][0]); G = int(img[i][j][1]); R = int(img[i][j][2])\n",
    "            I = (B + G + R)/3\n",
    "            if (I>230):\n",
    "                mask[i][j] = 255  \n",
    "    plt.figure(n); n+=1\n",
    "    plt.imshow(img)\n",
    "    plt.figure(n)\n",
    "    plt.imshow(mask); n+=1"
   ]
  },
  {
   "cell_type": "markdown",
   "metadata": {},
   "source": [
    "## Método solo utilizando el canal verde\n",
    "Este método se basa en que los sensores de las cámaras generalmente tienen el doble de sesores de longitudes de onde cercanas al verde (intermedias) que de rojo o azul. Por lo que es más preciso en ese rango. De forma similiar establece dos umbrales, al primero lo llama HBP(High Brightness Pixels) y uno superior, CSP(Circumsolar Saturated Pixels). Calcula la circularidad del CSP, si es similar a un círculo, la máscara HBP la toma cómo el disco solar."
   ]
  },
  {
   "cell_type": "code",
   "execution_count": null,
   "metadata": {},
   "outputs": [],
   "source": [
    "for img in images:\n",
    "    # Copia del canal verde\n",
    "    green_img = img.copy()\n",
    "    green_img[:,:,0] = 0\n",
    "    green_img[:,:,2] = 0\n",
    "    \n",
    "    CSP = np.zeros((img.shape[0], img.shape[1]))\n",
    "    HBP = np.zeros((img.shape[0], img.shape[1]))\n",
    "    \n",
    "    for i in range(green_img.shape[0]):\n",
    "        for j in range(green_img.shape[1]):\n",
    "            green =  int(green_img[i][j][1])\n",
    "            # High brightness pixels (HBP)\n",
    "            if green > 180:\n",
    "                HBP[i][j] = 255\n",
    "                # Circumsolar saturaded pixels(CSP)\n",
    "                if green > 245:\n",
    "                    CSP[i][j] = 255\n",
    "                    \n",
    "    plt.figure(n); n+=1\n",
    "    plt.imshow(img)\n",
    "    plt.figure(n)\n",
    "    plt.imshow(HBP); n+=1\n",
    "    plt.figure(n)\n",
    "    plt.imshow(CSP); n+=1"
   ]
  },
  {
   "cell_type": "markdown",
   "metadata": {},
   "source": [
    "## Trabajos en proceso\n",
    "+ Estoy probando mediante las máscaras halladas anteriormente, y aplicando los metodo disponibles en la librería openCV a detectar si hay circulos, puede llegar a ser util en el caso de que las nubes se encuentren obstruyendo parcialmente el sol.\n",
    "+ Busqueda de nuevos método que puedan solucionar el problema del obstruido parcialmente por nubes, ya que es el pricipal problema ahora mismo."
   ]
  },
  {
   "cell_type": "markdown",
   "metadata": {},
   "source": [
    "# Comentarios \n",
    "+ Todas las imagenes de las pruebas que he ido haciendo estan en la carpeta de imagenes, nombradas segun el algoritmo utilizado.\n",
    "+ He encontrado algunos artículos en los que plantean el uso de instrumentación radiométrica (pirheliómetros) a la hora de calcular la porción de los sol que se encuentra tapada por nubes, debido a que esto es un problema. No se si en nuestro caso esto es adecuado, debido a lo objetivos planteados.\n",
    "+ He estado viendo que se pueden aplicar algoritmos de inteligencia artificial para predecir el moviemiento de las nubes, y por tanto predecir la porcion del sol obstruido por nubes.\n",
    "+ En el método del canal verde, el autor del artículo, no realiza la comprobación en toda la imagen, sino que calcula los pixeles en los que se encontraria el sol, mediante el zenith y el azimuth. No he podido pobar este método debido a que desconozco estas variables del lugar donde se ham tomado las imágenes. Podría ser una prueba buena cuando se retorne a la normalidad y se monte la cámara en el IES."
   ]
  }
 ],
 "metadata": {
  "kernelspec": {
   "display_name": "Python 3",
   "language": "python",
   "name": "python3"
  },
  "language_info": {
   "codemirror_mode": {
    "name": "ipython",
    "version": 3
   },
   "file_extension": ".py",
   "mimetype": "text/x-python",
   "name": "python",
   "nbconvert_exporter": "python",
   "pygments_lexer": "ipython3",
   "version": "3.7.6"
  }
 },
 "nbformat": 4,
 "nbformat_minor": 4
}
